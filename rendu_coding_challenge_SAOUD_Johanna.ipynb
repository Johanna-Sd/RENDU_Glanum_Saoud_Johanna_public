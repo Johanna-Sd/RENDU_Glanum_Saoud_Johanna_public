{
 "cells": [
  {
   "cell_type": "markdown",
   "id": "dbcf915a",
   "metadata": {},
   "source": [
    "# Rendu Coding Challenge Apprenti Saoud Johanna"
   ]
  },
  {
   "cell_type": "markdown",
   "id": "5fde99b4",
   "metadata": {},
   "source": [
    "Dans le cadre de ce challenge il a été demandé de prédire le score de qualité d'un vin et de le classifier comme étant bon ou mauvais, à partir d'un set de données."
   ]
  },
  {
   "cell_type": "code",
   "execution_count": 1,
   "id": "12c7cd0c",
   "metadata": {},
   "outputs": [],
   "source": [
    "# Importation des librairies\n",
    "\n",
    "import numpy as np\n",
    "import pandas as pd\n",
    "import matplotlib.pyplot as plt\n",
    "import seaborn as sb\n",
    "%matplotlib inline\n",
    "from matplotlib import style\n",
    "import seaborn as sns\n",
    "import warnings\n",
    "warnings.filterwarnings('ignore')\n",
    "from sklearn.model_selection import train_test_split\n",
    "from sklearn.metrics import confusion_matrix, classification_report, accuracy_score, ConfusionMatrixDisplay\n",
    "from sklearn.linear_model import LogisticRegression\n",
    "from sklearn.tree import DecisionTreeClassifier\n",
    "from sklearn.ensemble import RandomForestClassifier\n",
    "from sklearn.linear_model import LinearRegression\n"
   ]
  },
  {
   "cell_type": "code",
   "execution_count": 2,
   "id": "9637c0fe",
   "metadata": {
    "scrolled": false
   },
   "outputs": [
    {
     "data": {
      "text/html": [
       "<div>\n",
       "<style scoped>\n",
       "    .dataframe tbody tr th:only-of-type {\n",
       "        vertical-align: middle;\n",
       "    }\n",
       "\n",
       "    .dataframe tbody tr th {\n",
       "        vertical-align: top;\n",
       "    }\n",
       "\n",
       "    .dataframe thead th {\n",
       "        text-align: right;\n",
       "    }\n",
       "</style>\n",
       "<table border=\"1\" class=\"dataframe\">\n",
       "  <thead>\n",
       "    <tr style=\"text-align: right;\">\n",
       "      <th></th>\n",
       "      <th>fixed acidity</th>\n",
       "      <th>volatile acidity</th>\n",
       "      <th>citric acid</th>\n",
       "      <th>residual sugar</th>\n",
       "      <th>chlorides</th>\n",
       "      <th>free sulfur dioxide</th>\n",
       "      <th>total sulfur dioxide</th>\n",
       "      <th>density</th>\n",
       "      <th>pH</th>\n",
       "      <th>sulphates</th>\n",
       "      <th>alcohol</th>\n",
       "      <th>quality</th>\n",
       "    </tr>\n",
       "  </thead>\n",
       "  <tbody>\n",
       "    <tr>\n",
       "      <th>0</th>\n",
       "      <td>7.4</td>\n",
       "      <td>0.70</td>\n",
       "      <td>0.00</td>\n",
       "      <td>1.9</td>\n",
       "      <td>0.076</td>\n",
       "      <td>11.0</td>\n",
       "      <td>34.0</td>\n",
       "      <td>0.9978</td>\n",
       "      <td>3.51</td>\n",
       "      <td>0.56</td>\n",
       "      <td>9.4</td>\n",
       "      <td>5</td>\n",
       "    </tr>\n",
       "    <tr>\n",
       "      <th>1</th>\n",
       "      <td>7.8</td>\n",
       "      <td>0.88</td>\n",
       "      <td>0.00</td>\n",
       "      <td>2.6</td>\n",
       "      <td>0.098</td>\n",
       "      <td>25.0</td>\n",
       "      <td>67.0</td>\n",
       "      <td>0.9968</td>\n",
       "      <td>3.20</td>\n",
       "      <td>0.68</td>\n",
       "      <td>9.8</td>\n",
       "      <td>5</td>\n",
       "    </tr>\n",
       "    <tr>\n",
       "      <th>2</th>\n",
       "      <td>7.8</td>\n",
       "      <td>0.76</td>\n",
       "      <td>0.04</td>\n",
       "      <td>2.3</td>\n",
       "      <td>0.092</td>\n",
       "      <td>15.0</td>\n",
       "      <td>54.0</td>\n",
       "      <td>0.9970</td>\n",
       "      <td>3.26</td>\n",
       "      <td>0.65</td>\n",
       "      <td>9.8</td>\n",
       "      <td>5</td>\n",
       "    </tr>\n",
       "    <tr>\n",
       "      <th>3</th>\n",
       "      <td>11.2</td>\n",
       "      <td>0.28</td>\n",
       "      <td>0.56</td>\n",
       "      <td>1.9</td>\n",
       "      <td>0.075</td>\n",
       "      <td>17.0</td>\n",
       "      <td>60.0</td>\n",
       "      <td>0.9980</td>\n",
       "      <td>3.16</td>\n",
       "      <td>0.58</td>\n",
       "      <td>9.8</td>\n",
       "      <td>6</td>\n",
       "    </tr>\n",
       "    <tr>\n",
       "      <th>4</th>\n",
       "      <td>7.4</td>\n",
       "      <td>0.70</td>\n",
       "      <td>0.00</td>\n",
       "      <td>1.9</td>\n",
       "      <td>0.076</td>\n",
       "      <td>11.0</td>\n",
       "      <td>34.0</td>\n",
       "      <td>0.9978</td>\n",
       "      <td>3.51</td>\n",
       "      <td>0.56</td>\n",
       "      <td>9.4</td>\n",
       "      <td>5</td>\n",
       "    </tr>\n",
       "  </tbody>\n",
       "</table>\n",
       "</div>"
      ],
      "text/plain": [
       "   fixed acidity  volatile acidity  citric acid  residual sugar  chlorides  \\\n",
       "0            7.4              0.70         0.00             1.9      0.076   \n",
       "1            7.8              0.88         0.00             2.6      0.098   \n",
       "2            7.8              0.76         0.04             2.3      0.092   \n",
       "3           11.2              0.28         0.56             1.9      0.075   \n",
       "4            7.4              0.70         0.00             1.9      0.076   \n",
       "\n",
       "   free sulfur dioxide  total sulfur dioxide  density    pH  sulphates  \\\n",
       "0                 11.0                  34.0   0.9978  3.51       0.56   \n",
       "1                 25.0                  67.0   0.9968  3.20       0.68   \n",
       "2                 15.0                  54.0   0.9970  3.26       0.65   \n",
       "3                 17.0                  60.0   0.9980  3.16       0.58   \n",
       "4                 11.0                  34.0   0.9978  3.51       0.56   \n",
       "\n",
       "   alcohol  quality  \n",
       "0      9.4        5  \n",
       "1      9.8        5  \n",
       "2      9.8        5  \n",
       "3      9.8        6  \n",
       "4      9.4        5  "
      ]
     },
     "execution_count": 2,
     "metadata": {},
     "output_type": "execute_result"
    }
   ],
   "source": [
    "#Importation des données et création du dataframe\n",
    "\n",
    "data = pd.read_csv('C:/Users/saoud/Downloads/winequality-red.csv', encoding='utf8',sep=';')\n",
    "data.head()\n",
    "\n"
   ]
  },
  {
   "cell_type": "markdown",
   "id": "0ddb1097",
   "metadata": {},
   "source": [
    "### Exploration des données"
   ]
  },
  {
   "cell_type": "markdown",
   "id": "8ab43d0b",
   "metadata": {},
   "source": [
    "L'exploration des données va permettre de découvrir les données avec plus de clairté et une meilleure compréhension des données \n"
   ]
  },
  {
   "cell_type": "code",
   "execution_count": 3,
   "id": "c2881ae7",
   "metadata": {
    "scrolled": true
   },
   "outputs": [
    {
     "name": "stdout",
     "output_type": "stream",
     "text": [
      "<class 'pandas.core.frame.DataFrame'>\n",
      "RangeIndex: 1599 entries, 0 to 1598\n",
      "Data columns (total 12 columns):\n",
      " #   Column                Non-Null Count  Dtype  \n",
      "---  ------                --------------  -----  \n",
      " 0   fixed acidity         1599 non-null   float64\n",
      " 1   volatile acidity      1599 non-null   float64\n",
      " 2   citric acid           1599 non-null   float64\n",
      " 3   residual sugar        1599 non-null   float64\n",
      " 4   chlorides             1599 non-null   float64\n",
      " 5   free sulfur dioxide   1599 non-null   float64\n",
      " 6   total sulfur dioxide  1599 non-null   float64\n",
      " 7   density               1599 non-null   float64\n",
      " 8   pH                    1599 non-null   float64\n",
      " 9   sulphates             1599 non-null   float64\n",
      " 10  alcohol               1599 non-null   float64\n",
      " 11  quality               1599 non-null   int64  \n",
      "dtypes: float64(11), int64(1)\n",
      "memory usage: 150.0 KB\n"
     ]
    }
   ],
   "source": [
    "# Information sur les données \n",
    "\n",
    "data.info()"
   ]
  },
  {
   "cell_type": "code",
   "execution_count": 4,
   "id": "1b189b6c",
   "metadata": {},
   "outputs": [
    {
     "data": {
      "text/plain": [
       "fixed acidity           0\n",
       "volatile acidity        0\n",
       "citric acid             0\n",
       "residual sugar          0\n",
       "chlorides               0\n",
       "free sulfur dioxide     0\n",
       "total sulfur dioxide    0\n",
       "density                 0\n",
       "pH                      0\n",
       "sulphates               0\n",
       "alcohol                 0\n",
       "quality                 0\n",
       "dtype: int64"
      ]
     },
     "execution_count": 4,
     "metadata": {},
     "output_type": "execute_result"
    }
   ],
   "source": [
    "data.isnull().sum()"
   ]
  },
  {
   "cell_type": "code",
   "execution_count": 5,
   "id": "885eb09d",
   "metadata": {
    "scrolled": false
   },
   "outputs": [
    {
     "data": {
      "text/html": [
       "<div>\n",
       "<style scoped>\n",
       "    .dataframe tbody tr th:only-of-type {\n",
       "        vertical-align: middle;\n",
       "    }\n",
       "\n",
       "    .dataframe tbody tr th {\n",
       "        vertical-align: top;\n",
       "    }\n",
       "\n",
       "    .dataframe thead th {\n",
       "        text-align: right;\n",
       "    }\n",
       "</style>\n",
       "<table border=\"1\" class=\"dataframe\">\n",
       "  <thead>\n",
       "    <tr style=\"text-align: right;\">\n",
       "      <th></th>\n",
       "      <th>fixed acidity</th>\n",
       "      <th>volatile acidity</th>\n",
       "      <th>citric acid</th>\n",
       "      <th>residual sugar</th>\n",
       "      <th>chlorides</th>\n",
       "      <th>free sulfur dioxide</th>\n",
       "      <th>total sulfur dioxide</th>\n",
       "      <th>density</th>\n",
       "      <th>pH</th>\n",
       "      <th>sulphates</th>\n",
       "      <th>alcohol</th>\n",
       "      <th>quality</th>\n",
       "    </tr>\n",
       "  </thead>\n",
       "  <tbody>\n",
       "    <tr>\n",
       "      <th>count</th>\n",
       "      <td>1599.000000</td>\n",
       "      <td>1599.000000</td>\n",
       "      <td>1599.000000</td>\n",
       "      <td>1599.000000</td>\n",
       "      <td>1599.000000</td>\n",
       "      <td>1599.000000</td>\n",
       "      <td>1599.000000</td>\n",
       "      <td>1599.000000</td>\n",
       "      <td>1599.000000</td>\n",
       "      <td>1599.000000</td>\n",
       "      <td>1599.000000</td>\n",
       "      <td>1599.000000</td>\n",
       "    </tr>\n",
       "    <tr>\n",
       "      <th>mean</th>\n",
       "      <td>8.319637</td>\n",
       "      <td>0.527821</td>\n",
       "      <td>0.270976</td>\n",
       "      <td>2.538806</td>\n",
       "      <td>0.087467</td>\n",
       "      <td>15.874922</td>\n",
       "      <td>46.467792</td>\n",
       "      <td>0.996747</td>\n",
       "      <td>3.311113</td>\n",
       "      <td>0.658149</td>\n",
       "      <td>10.422983</td>\n",
       "      <td>5.636023</td>\n",
       "    </tr>\n",
       "    <tr>\n",
       "      <th>std</th>\n",
       "      <td>1.741096</td>\n",
       "      <td>0.179060</td>\n",
       "      <td>0.194801</td>\n",
       "      <td>1.409928</td>\n",
       "      <td>0.047065</td>\n",
       "      <td>10.460157</td>\n",
       "      <td>32.895324</td>\n",
       "      <td>0.001887</td>\n",
       "      <td>0.154386</td>\n",
       "      <td>0.169507</td>\n",
       "      <td>1.065668</td>\n",
       "      <td>0.807569</td>\n",
       "    </tr>\n",
       "    <tr>\n",
       "      <th>min</th>\n",
       "      <td>4.600000</td>\n",
       "      <td>0.120000</td>\n",
       "      <td>0.000000</td>\n",
       "      <td>0.900000</td>\n",
       "      <td>0.012000</td>\n",
       "      <td>1.000000</td>\n",
       "      <td>6.000000</td>\n",
       "      <td>0.990070</td>\n",
       "      <td>2.740000</td>\n",
       "      <td>0.330000</td>\n",
       "      <td>8.400000</td>\n",
       "      <td>3.000000</td>\n",
       "    </tr>\n",
       "    <tr>\n",
       "      <th>25%</th>\n",
       "      <td>7.100000</td>\n",
       "      <td>0.390000</td>\n",
       "      <td>0.090000</td>\n",
       "      <td>1.900000</td>\n",
       "      <td>0.070000</td>\n",
       "      <td>7.000000</td>\n",
       "      <td>22.000000</td>\n",
       "      <td>0.995600</td>\n",
       "      <td>3.210000</td>\n",
       "      <td>0.550000</td>\n",
       "      <td>9.500000</td>\n",
       "      <td>5.000000</td>\n",
       "    </tr>\n",
       "    <tr>\n",
       "      <th>50%</th>\n",
       "      <td>7.900000</td>\n",
       "      <td>0.520000</td>\n",
       "      <td>0.260000</td>\n",
       "      <td>2.200000</td>\n",
       "      <td>0.079000</td>\n",
       "      <td>14.000000</td>\n",
       "      <td>38.000000</td>\n",
       "      <td>0.996750</td>\n",
       "      <td>3.310000</td>\n",
       "      <td>0.620000</td>\n",
       "      <td>10.200000</td>\n",
       "      <td>6.000000</td>\n",
       "    </tr>\n",
       "    <tr>\n",
       "      <th>75%</th>\n",
       "      <td>9.200000</td>\n",
       "      <td>0.640000</td>\n",
       "      <td>0.420000</td>\n",
       "      <td>2.600000</td>\n",
       "      <td>0.090000</td>\n",
       "      <td>21.000000</td>\n",
       "      <td>62.000000</td>\n",
       "      <td>0.997835</td>\n",
       "      <td>3.400000</td>\n",
       "      <td>0.730000</td>\n",
       "      <td>11.100000</td>\n",
       "      <td>6.000000</td>\n",
       "    </tr>\n",
       "    <tr>\n",
       "      <th>max</th>\n",
       "      <td>15.900000</td>\n",
       "      <td>1.580000</td>\n",
       "      <td>1.000000</td>\n",
       "      <td>15.500000</td>\n",
       "      <td>0.611000</td>\n",
       "      <td>72.000000</td>\n",
       "      <td>289.000000</td>\n",
       "      <td>1.003690</td>\n",
       "      <td>4.010000</td>\n",
       "      <td>2.000000</td>\n",
       "      <td>14.900000</td>\n",
       "      <td>8.000000</td>\n",
       "    </tr>\n",
       "  </tbody>\n",
       "</table>\n",
       "</div>"
      ],
      "text/plain": [
       "       fixed acidity  volatile acidity  citric acid  residual sugar  \\\n",
       "count    1599.000000       1599.000000  1599.000000     1599.000000   \n",
       "mean        8.319637          0.527821     0.270976        2.538806   \n",
       "std         1.741096          0.179060     0.194801        1.409928   \n",
       "min         4.600000          0.120000     0.000000        0.900000   \n",
       "25%         7.100000          0.390000     0.090000        1.900000   \n",
       "50%         7.900000          0.520000     0.260000        2.200000   \n",
       "75%         9.200000          0.640000     0.420000        2.600000   \n",
       "max        15.900000          1.580000     1.000000       15.500000   \n",
       "\n",
       "         chlorides  free sulfur dioxide  total sulfur dioxide      density  \\\n",
       "count  1599.000000          1599.000000           1599.000000  1599.000000   \n",
       "mean      0.087467            15.874922             46.467792     0.996747   \n",
       "std       0.047065            10.460157             32.895324     0.001887   \n",
       "min       0.012000             1.000000              6.000000     0.990070   \n",
       "25%       0.070000             7.000000             22.000000     0.995600   \n",
       "50%       0.079000            14.000000             38.000000     0.996750   \n",
       "75%       0.090000            21.000000             62.000000     0.997835   \n",
       "max       0.611000            72.000000            289.000000     1.003690   \n",
       "\n",
       "                pH    sulphates      alcohol      quality  \n",
       "count  1599.000000  1599.000000  1599.000000  1599.000000  \n",
       "mean      3.311113     0.658149    10.422983     5.636023  \n",
       "std       0.154386     0.169507     1.065668     0.807569  \n",
       "min       2.740000     0.330000     8.400000     3.000000  \n",
       "25%       3.210000     0.550000     9.500000     5.000000  \n",
       "50%       3.310000     0.620000    10.200000     6.000000  \n",
       "75%       3.400000     0.730000    11.100000     6.000000  \n",
       "max       4.010000     2.000000    14.900000     8.000000  "
      ]
     },
     "execution_count": 5,
     "metadata": {},
     "output_type": "execute_result"
    }
   ],
   "source": [
    "data.describe()"
   ]
  },
  {
   "cell_type": "code",
   "execution_count": 6,
   "id": "652376a2",
   "metadata": {},
   "outputs": [
    {
     "data": {
      "image/png": "[encoded data removed]",
      "text/plain": [
       "<Figure size 720x360 with 1 Axes>"
      ]
     },
     "metadata": {
      "needs_background": "light"
     },
     "output_type": "display_data"
    }
   ],
   "source": [
    "plt.figure(figsize = (10,5))\n",
    "sns.countplot(data['quality'])\n",
    "plt.show()"
   ]
  },
  {
   "cell_type": "markdown",
   "id": "78051539",
   "metadata": {},
   "source": [
    "### Impact des différents paramètres sur le score de qualité "
   ]
  },
  {
   "cell_type": "code",
   "execution_count": 7,
   "id": "65866c68",
   "metadata": {},
   "outputs": [
    {
     "data": {
      "image/png": "[encoded data removed]",
      "text/plain": [
       "<Figure size 1008x576 with 2 Axes>"
      ]
     },
     "metadata": {
      "needs_background": "light"
     },
     "output_type": "display_data"
    }
   ],
   "source": [
    "# Génération d'une matrice de corrélation afin de voir les impacts positifs ou négatifs des parmètres sur le score de qualité\n",
    "\n",
    "plt.figure(figsize=[14,8])\n",
    "sb.heatmap(data.corr(),annot=True)\n",
    "plt.show()"
   ]
  },
  {
   "cell_type": "markdown",
   "id": "389e85e3",
   "metadata": {},
   "source": [
    "On remarque que l'alcool, les sulphates et l'acide citrique peuvent avoir un impact positif sur la qualité. A l'inverse, l'acidité volatil présente un impact négatif sur le score de qualité. On peut aussi voir qu'il existe des paramètres ayant un très faible impact sur le score comme par exemple les sucres résiduels, le ph ou encore le dioxyde de soufre libre."
   ]
  },
  {
   "cell_type": "markdown",
   "id": "efef6924",
   "metadata": {},
   "source": [
    "Génération d'autres graphiques afin d'observer un peu mieux les hypothèses émisent grâce à la matrice de corrélation :"
   ]
  },
  {
   "cell_type": "code",
   "execution_count": 8,
   "id": "fec878b3",
   "metadata": {},
   "outputs": [
    {
     "data": {
      "image/png": "[encoded data removed]",
      "text/plain": [
       "<Figure size 576x360 with 1 Axes>"
      ]
     },
     "metadata": {
      "needs_background": "light"
     },
     "output_type": "display_data"
    }
   ],
   "source": [
    "# alcool et qualité \n",
    "\n",
    "plt.figure(figsize=[8,5])\n",
    "plt.bar(data['quality'],data['alcohol'])\n",
    "plt.xlabel('quality')\n",
    "plt.ylabel('alcohol')\n",
    "plt.show()"
   ]
  },
  {
   "cell_type": "code",
   "execution_count": 9,
   "id": "97d8cf93",
   "metadata": {},
   "outputs": [
    {
     "data": {
      "image/png": "[encoded data removed]",
      "text/plain": [
       "<Figure size 576x360 with 1 Axes>"
      ]
     },
     "metadata": {
      "needs_background": "light"
     },
     "output_type": "display_data"
    }
   ],
   "source": [
    "# sulphates et qualité \n",
    "\n",
    "plt.figure(figsize=[8,5])\n",
    "plt.bar(data['quality'],data['sulphates'])\n",
    "plt.xlabel('quality')\n",
    "plt.ylabel('sulphates')\n",
    "plt.show()"
   ]
  },
  {
   "cell_type": "code",
   "execution_count": 10,
   "id": "955c0fff",
   "metadata": {
    "scrolled": false
   },
   "outputs": [
    {
     "data": {
      "image/png": "[encoded data removed]",
      "text/plain": [
       "<Figure size 576x360 with 1 Axes>"
      ]
     },
     "metadata": {
      "needs_background": "light"
     },
     "output_type": "display_data"
    }
   ],
   "source": [
    "# citric acid et qualité \n",
    "\n",
    "plt.figure(figsize=[8,5])\n",
    "plt.bar(data['quality'],data['citric acid'])\n",
    "plt.xlabel('quality')\n",
    "plt.ylabel('citric acid')\n",
    "plt.show()\n"
   ]
  },
  {
   "cell_type": "markdown",
   "id": "c7689624",
   "metadata": {},
   "source": [
    "Pour les paramètres acide citrique, alcool et sulphate, on peut effectivement observer un petit impact positif sur le score de qualité. Il peut cependant exister des interractions entre les differents paramètres qui pourrait peut etre amoindrir l'impact positif. "
   ]
  },
  {
   "cell_type": "code",
   "execution_count": 11,
   "id": "d857b659",
   "metadata": {
    "scrolled": true
   },
   "outputs": [
    {
     "data": {
      "image/png": "[encoded data removed]",
      "text/plain": [
       "<Figure size 576x360 with 1 Axes>"
      ]
     },
     "metadata": {
      "needs_background": "light"
     },
     "output_type": "display_data"
    }
   ],
   "source": [
    "# volatile acidity et qualité \n",
    "\n",
    "plt.figure(figsize=[8,5])\n",
    "plt.bar(data['quality'],data['volatile acidity'])\n",
    "plt.xlabel('quality')\n",
    "plt.ylabel('volatile acidity')\n",
    "plt.show()"
   ]
  },
  {
   "cell_type": "markdown",
   "id": "402edda7",
   "metadata": {},
   "source": [
    "On remarque que l'acidité volatile a effectivement un impact négatif sur le score de qualité (plus il y en a, moins le score est élevé)"
   ]
  },
  {
   "cell_type": "markdown",
   "id": "46fe6eb9",
   "metadata": {},
   "source": [
    "### Prédiction du score de qualité et classification en bonne ou mauvaise qualité\n"
   ]
  },
  {
   "cell_type": "code",
   "execution_count": 12,
   "id": "3cc20827",
   "metadata": {
    "scrolled": true
   },
   "outputs": [],
   "source": [
    "# Préparation des variables et séparation du jeu de donnée\n",
    "\n",
    "data2=data\n",
    "X=data2.drop(['quality'],axis=1)\n",
    "y=data2['quality']\n",
    "\n"
   ]
  },
  {
   "cell_type": "code",
   "execution_count": 13,
   "id": "7986468c",
   "metadata": {},
   "outputs": [],
   "source": [
    "# Création d'un jeu d'apprentissage et de test\n",
    "\n",
    "# 70% pour le set d'apprentissage\n",
    "# 30% pour le test\n",
    "\n",
    "trainsize=0.7 \n",
    "testsize= 0.3\n",
    "seed=30\n",
    "X_train,X_test,y_train,y_test=train_test_split(X, \n",
    "                                               y, \n",
    "                                               train_size=trainsize, \n",
    "                                               random_state=seed,\n",
    "                                               test_size=testsize)"
   ]
  },
  {
   "cell_type": "code",
   "execution_count": 14,
   "id": "13782da6",
   "metadata": {},
   "outputs": [
    {
     "name": "stdout",
     "output_type": "stream",
     "text": [
      "(1599,) (480,) (1119,)\n"
     ]
    }
   ],
   "source": [
    "print(y.shape, y_test.shape, y_train.shape)"
   ]
  },
  {
   "cell_type": "markdown",
   "id": "4a727f1f",
   "metadata": {},
   "source": [
    "Afin d'effectuer la prédiction de la note de qualité du vin de 0 à 10, j'ai choisis d'effectuer en premier temps une régréssion linéaire : "
   ]
  },
  {
   "cell_type": "code",
   "execution_count": 15,
   "id": "ca36b3ac",
   "metadata": {
    "scrolled": true
   },
   "outputs": [],
   "source": [
    "#Régréssion Linéaire\n",
    "\n",
    "reg = LinearRegression().fit(X_train, y_train)\n"
   ]
  },
  {
   "cell_type": "code",
   "execution_count": 16,
   "id": "f04d0170",
   "metadata": {
    "scrolled": false
   },
   "outputs": [
    {
     "name": "stdout",
     "output_type": "stream",
     "text": [
      "[6.24296697 5.42745542 5.56210168 5.08703563 5.80454291 5.15358877\n",
      " 5.19298646 4.96524896 5.42057197 5.0595798  5.10057439 6.19288969\n",
      " 5.38328974 5.74135592 6.61309857 5.80337423 4.98713678 5.21394893\n",
      " 6.25165025 5.60545183 5.25115947 6.2488561  6.24295954 4.53139281\n",
      " 6.06964261 5.57866159 5.8018105  5.26102261 5.51219259 5.7362369\n",
      " 5.11829923 5.69862911 5.66433213 5.72565198 5.42118417 6.60905584\n",
      " 5.9771274  5.47586843 5.31629505 6.44941914 4.87466847 5.75220879\n",
      " 6.16403784 5.52310303 5.33905057 6.54461115 6.00226531 6.22321633\n",
      " 5.36693619 5.25002735 5.76424759 5.75219279 5.49415913 4.98084094\n",
      " 5.33570281 5.77330083 5.73793678 5.35802808 5.07860374 5.53350232\n",
      " 5.34229444 5.4548991  6.43118181 5.4861174  6.15585607 5.79982663\n",
      " 5.49928205 5.39172119 5.1340327  5.66761541 5.39580736 5.16177855\n",
      " 5.48573226 5.66601874 6.04973826 5.43263501 6.35262286 5.39401265\n",
      " 5.73145616 5.61776638 6.91388856 6.1944966  6.1253398  5.48280513\n",
      " 5.14269404 5.17335777 4.98757376 5.77506472 5.14812415 5.79506573\n",
      " 5.14787313 5.99605473 5.0723542  6.29471973 5.37495227 6.00392158\n",
      " 4.87914656 6.264151   5.20679475 5.2149242  5.01001778 5.38778143\n",
      " 5.33955323 5.88497367 5.92952954 6.1984079  6.46488562 5.0152119\n",
      " 6.274464   4.9155516  5.17904215 4.98757376 5.27756807 6.35319552\n",
      " 6.67728215 5.7501095  5.63410102 6.17253285 5.35252064 5.7545732\n",
      " 6.04590451 5.97244471 6.25911266 5.9298747  6.01925662 5.39860288\n",
      " 6.84361141 5.85316409 6.26178186 5.26981553 5.14377888 5.03866791\n",
      " 5.56704433 5.5420942  6.46261727 5.66395335 5.64045126 4.55805812\n",
      " 6.01084147 5.58643822 6.09464787 5.08311876 5.3630246  5.08544973\n",
      " 5.9346798  5.72630788 4.96851988 4.983823   6.47791717 6.52557157\n",
      " 5.32641504 5.69745534 5.06366353 5.68848003 5.5420942  6.37981018\n",
      " 5.87109407 6.44834824 4.44075232 5.31629505 5.32370587 6.03156563\n",
      " 5.45312518 5.0360834  5.66693474 5.41583189 5.46516999 5.27222878\n",
      " 6.46094079 6.31362916 5.15478965 6.01623951 5.64589284 6.33479324\n",
      " 5.66375214 6.48487912 4.92980693 5.24466858 6.04729007 6.25244361\n",
      " 4.97955019 5.56656239 5.95730561 5.23608747 5.63941946 5.53427542\n",
      " 5.61776022 6.30513155 5.17985691 6.46429246 5.07054851 5.49479865\n",
      " 6.11950725 6.42302784 6.05160858 5.20776526 6.73152579 6.11022186\n",
      " 5.03980729 6.7709771  6.46429246 5.2400321  5.37241668 5.3293505\n",
      " 6.38363516 5.58461035 6.37643455 6.33328877 6.24478237 5.70727364\n",
      " 6.57272983 5.37684602 6.506864   5.18861969 5.05550914 4.9928522\n",
      " 5.1937486  5.9371677  6.23710259 6.73611619 5.82763357 6.91388856\n",
      " 6.23451442 6.37529539 5.0674332  5.70449177 5.40056174 5.08664129\n",
      " 6.33919238 5.4645037  4.97582089 5.53885294 6.06772985 5.65852371\n",
      " 5.39851214 5.0695136  5.27293651 6.02262856 5.92863931 5.99079173\n",
      " 5.29114578 5.53871246 6.01067101 5.86976653 5.99058408 5.75867788\n",
      " 5.73763089 6.17485327 6.43278937 5.05916948 4.95434501 5.75952864\n",
      " 5.32768367 5.63897688 6.22300889 5.50409066 5.88157722 5.3630246\n",
      " 6.10282697 5.74616349 5.33462553 5.27373062 5.7446261  5.70686465\n",
      " 5.05085503 5.73675394 6.24478237 4.81097141 6.04973826 5.66433213\n",
      " 5.77330083 5.03360184 6.32663442 5.53671691 5.1660726  5.30394416\n",
      " 5.93676449 6.20272065 5.4745843  5.93956316 5.40546472 5.05898925\n",
      " 5.0372571  5.20450955 5.48176071 5.04196761 6.1577393  5.94219847\n",
      " 5.72034857 6.41364275 4.96732924 5.43600894 5.61776638 6.81635998\n",
      " 5.72613679 5.03144025 5.42682525 5.66731987 6.36712326 5.5515869\n",
      " 5.1257162  6.03989392 5.54312832 5.18590881 5.73995785 5.27591647\n",
      " 5.66731987 5.88377445 5.90962758 5.9021761  5.10408264 5.10170237\n",
      " 5.83025501 6.00852641 6.37643455 5.77447461 6.17018601 5.84149402\n",
      " 5.09448857 5.33171133 5.87910878 4.86432505 5.24489483 5.67630191\n",
      " 5.20937978 5.7329462  6.38507768 5.45353027 5.58282062 4.99685303\n",
      " 4.98746886 5.48230111 6.25244361 4.66394452 5.30577413 6.04647507\n",
      " 5.8584267  5.33895532 5.52310303 5.03019574 5.47352897 6.02761443\n",
      " 5.25118998 5.21972631 6.29275655 5.78789549 5.20702473 6.28653411\n",
      " 4.96732924 5.41219961 5.55979787 6.22988372 4.88524517 5.50472487\n",
      " 5.4476579  6.1874593  5.90561207 5.66983479 5.58584225 5.9617664\n",
      " 5.31232215 6.07299611 5.55905999 6.30325283 5.95435836 5.85708054\n",
      " 6.41874727 6.50885429 5.73306868 5.96445526 5.5112836  4.70211928\n",
      " 5.80015258 6.5533425  5.91605173 6.1193224  6.38363516 5.46248036\n",
      " 5.32512444 5.78945058 5.02278044 5.79871261 5.02591391 5.54893269\n",
      " 4.81677971 5.79764116 5.96324103 5.93948144 5.01489314 5.83182737\n",
      " 6.50470748 5.82763357 5.62618781 5.94055108 6.72859742 5.18811596\n",
      " 5.47016735 6.12766833 5.54995151 5.55070944 5.4192624  4.88311135\n",
      " 5.63429991 4.83493397 5.34986577 6.25046092 5.24535001 5.65611734\n",
      " 4.92645808 6.49363347 5.07401408 6.27988114 5.44021539 6.1103874\n",
      " 5.23220679 5.6678211  5.70471212 6.1309782  5.66098982 6.46002875\n",
      " 5.81161962 5.03144025 6.22714925 5.47767315 5.32118368 5.8446247\n",
      " 5.4745843  5.89058403 5.58065202 5.68145238 5.03019574 5.13451624\n",
      " 5.00689839 5.11614218 5.42337968 6.3272998  6.32501239 6.23614274\n",
      " 5.49137869 5.23448034 5.22316564 5.70686465 4.98825197 5.12977302\n",
      " 5.11051497 5.19809919 5.60383829 5.42034123 5.47308332 5.50843447\n",
      " 5.12822931 6.7142252  4.99442773 5.36703947 5.69279348 5.36703947\n",
      " 6.32297128 5.66375214 5.77259534 6.21473809 6.61883418 5.61495943\n",
      " 6.24877178 6.41200052 7.46623921 5.62618781 5.74487314 5.86175708\n",
      " 5.29935057 5.73010071 6.67131019 6.40256079 5.33631188 5.44203945\n",
      " 5.15246935 4.9289344  5.28517561 6.25883849 4.9943569  5.18413768]\n"
     ]
    }
   ],
   "source": [
    "# Affichage des valeurs prédites\n",
    "\n",
    "\n",
    "reg_res = reg.predict(np.array(X_test ))\n",
    "print(reg_res)"
   ]
  },
  {
   "cell_type": "code",
   "execution_count": null,
   "id": "c1af8854",
   "metadata": {},
   "outputs": [],
   "source": []
  },
  {
   "cell_type": "markdown",
   "id": "c05be65d",
   "metadata": {},
   "source": [
    "Comme les notes de qualité sont des int, je choisis de modifier les prédictions qui sont des float, en int, en arrondissant : "
   ]
  },
  {
   "cell_type": "code",
   "execution_count": 17,
   "id": "52d085c9",
   "metadata": {
    "scrolled": true
   },
   "outputs": [
    {
     "name": "stdout",
     "output_type": "stream",
     "text": [
      "La liste des notes prédite est la suivante :  [6. 5. 6. 5. 6. 5. 5. 5. 5. 5. 5. 6. 5. 6. 7. 6. 5. 5. 6. 6. 5. 6. 6. 5.\n",
      " 6. 6. 6. 5. 6. 6. 5. 6. 6. 6. 5. 7. 6. 5. 5. 6. 5. 6. 6. 6. 5. 7. 6. 6.\n",
      " 5. 5. 6. 6. 5. 5. 5. 6. 6. 5. 5. 6. 5. 5. 6. 5. 6. 6. 5. 5. 5. 6. 5. 5.\n",
      " 5. 6. 6. 5. 6. 5. 6. 6. 7. 6. 6. 5. 5. 5. 5. 6. 5. 6. 5. 6. 5. 6. 5. 6.\n",
      " 5. 6. 5. 5. 5. 5. 5. 6. 6. 6. 6. 5. 6. 5. 5. 5. 5. 6. 7. 6. 6. 6. 5. 6.\n",
      " 6. 6. 6. 6. 6. 5. 7. 6. 6. 5. 5. 5. 6. 6. 6. 6. 6. 5. 6. 6. 6. 5. 5. 5.\n",
      " 6. 6. 5. 5. 6. 7. 5. 6. 5. 6. 6. 6. 6. 6. 4. 5. 5. 6. 5. 5. 6. 5. 5. 5.\n",
      " 6. 6. 5. 6. 6. 6. 6. 6. 5. 5. 6. 6. 5. 6. 6. 5. 6. 6. 6. 6. 5. 6. 5. 5.\n",
      " 6. 6. 6. 5. 7. 6. 5. 7. 6. 5. 5. 5. 6. 6. 6. 6. 6. 6. 7. 5. 7. 5. 5. 5.\n",
      " 5. 6. 6. 7. 6. 7. 6. 6. 5. 6. 5. 5. 6. 5. 5. 6. 6. 6. 5. 5. 5. 6. 6. 6.\n",
      " 5. 6. 6. 6. 6. 6. 6. 6. 6. 5. 5. 6. 5. 6. 6. 6. 6. 5. 6. 6. 5. 5. 6. 6.\n",
      " 5. 6. 6. 5. 6. 6. 6. 5. 6. 6. 5. 5. 6. 6. 5. 6. 5. 5. 5. 5. 5. 5. 6. 6.\n",
      " 6. 6. 5. 5. 6. 7. 6. 5. 5. 6. 6. 6. 5. 6. 6. 5. 6. 5. 6. 6. 6. 6. 5. 5.\n",
      " 6. 6. 6. 6. 6. 6. 5. 5. 6. 5. 5. 6. 5. 6. 6. 5. 6. 5. 5. 5. 6. 5. 5. 6.\n",
      " 6. 5. 6. 5. 5. 6. 5. 5. 6. 6. 5. 6. 5. 5. 6. 6. 5. 6. 5. 6. 6. 6. 6. 6.\n",
      " 5. 6. 6. 6. 6. 6. 6. 7. 6. 6. 6. 5. 6. 7. 6. 6. 6. 5. 5. 6. 5. 6. 5. 6.\n",
      " 5. 6. 6. 6. 5. 6. 7. 6. 6. 6. 7. 5. 5. 6. 6. 6. 5. 5. 6. 5. 5. 6. 5. 6.\n",
      " 5. 6. 5. 6. 5. 6. 5. 6. 6. 6. 6. 6. 6. 5. 6. 5. 5. 6. 5. 6. 6. 6. 5. 5.\n",
      " 5. 5. 5. 6. 6. 6. 5. 5. 5. 6. 5. 5. 5. 5. 6. 5. 5. 6. 5. 7. 5. 5. 6. 5.\n",
      " 6. 6. 6. 6. 7. 6. 6. 6. 7. 6. 6. 6. 5. 6. 7. 6. 5. 5. 5. 5. 5. 6. 5. 5.]\n"
     ]
    }
   ],
   "source": [
    "reg_res_int = reg_res\n",
    "for i in range(len(reg_res_int)):\n",
    "    if (reg_res_int[i] - int(reg_res_int[i])) < 0.5:\n",
    "        reg_res_int[i] = int(reg_res_int[i]) \n",
    "    else:\n",
    "        reg_res_int[i] = int(reg_res_int[i])+1\n",
    "\n",
    "print('La liste des notes prédite est la suivante : ',reg_res_int)"
   ]
  },
  {
   "cell_type": "code",
   "execution_count": null,
   "id": "555a76dd",
   "metadata": {},
   "outputs": [],
   "source": []
  },
  {
   "cell_type": "markdown",
   "id": "2d1cf1a1",
   "metadata": {},
   "source": [
    "La prédiction des scores de qualité est faite. A l'aide d'une simple boucle, je vais pouvoir classifier les notes prédites en GOOD ou BAD qualité. J'ai choisi de fixer à 7 la note minimal pour etre qualifier de GOOD. "
   ]
  },
  {
   "cell_type": "code",
   "execution_count": 18,
   "id": "c8d5957b",
   "metadata": {},
   "outputs": [
    {
     "name": "stdout",
     "output_type": "stream",
     "text": [
      "Il y a  22 GOOD parmis les prédictions.\n",
      "Il y a  458 BAD parmis les prédictions.\n"
     ]
    }
   ],
   "source": [
    "reg_res_bg = list(reg_res_int)\n",
    "\n",
    "for i in range(len(reg_res_bg)):\n",
    "    if (reg_res_bg[i] < 7) :\n",
    "        reg_res_bg[i] = \"BAD\"\n",
    "    else:\n",
    "        reg_res_bg[i] = \"GOOD\"\n",
    "\n",
    "print('Il y a ',reg_res_bg.count('GOOD'), 'GOOD parmis les prédictions.')\n",
    "print('Il y a ',reg_res_bg.count('BAD'), 'BAD parmis les prédictions.')"
   ]
  },
  {
   "cell_type": "markdown",
   "id": "e482f496",
   "metadata": {},
   "source": [
    "#### Evaluation de la fiabilité et pertinance du modèle Régréssion Linéaire : "
   ]
  },
  {
   "cell_type": "code",
   "execution_count": 19,
   "id": "904808de",
   "metadata": {},
   "outputs": [
    {
     "name": "stdout",
     "output_type": "stream",
     "text": [
      "Il y a  64 GOOD parmis les prédictions.\n",
      "Il y a  416 BAD parmis les prédictions.\n"
     ]
    }
   ],
   "source": [
    "# Transformation du set de test contenant les notes réels en BAD ou GOOD \n",
    "\n",
    "y_test_bg = list(y_test)\n",
    "\n",
    "for i in range(len(y_test_bg)):\n",
    "    if (y_test_bg[i] < 7) :\n",
    "        y_test_bg[i] = \"BAD\"\n",
    "    else:\n",
    "        y_test_bg[i] = \"GOOD\"\n",
    "        \n",
    "\n",
    "print('Il y a ',y_test_bg.count('GOOD'), 'GOOD parmis les prédictions.')\n",
    "print('Il y a ',y_test_bg.count('BAD'), 'BAD parmis les prédictions.')"
   ]
  },
  {
   "cell_type": "code",
   "execution_count": 20,
   "id": "61e18de8",
   "metadata": {
    "scrolled": true
   },
   "outputs": [
    {
     "name": "stdout",
     "output_type": "stream",
     "text": [
      "Il y a 407 Vrai Négatif.\n",
      "Il y a 51 Faux Négatif.\n",
      "Il y a 13 Vrai Positif.\n",
      "Il y a 9 Faux positif.\n"
     ]
    }
   ],
   "source": [
    "# Comparaison de ce set avec la prediction à l'aide d'une matrice de confusion\n",
    "\n",
    "a = confusion_matrix(y_test_bg, reg_res_bg)\n",
    "\n",
    "print('Il y a', a[0][0], 'Vrai Négatif.')\n",
    "print('Il y a', a[1][0], 'Faux Négatif.')\n",
    "print('Il y a', a[1][1], 'Vrai Positif.')\n",
    "print('Il y a', a[0][1], 'Faux positif.')\n"
   ]
  },
  {
   "cell_type": "markdown",
   "id": "d6bf0c01",
   "metadata": {},
   "source": [
    "Evaluation de la prédiction à l'aide de l'erreur quadratique moyenne qui va calculer le carré des erreurs résiduelles, pour en faire la moyenne"
   ]
  },
  {
   "cell_type": "code",
   "execution_count": 21,
   "id": "acfc63dd",
   "metadata": {},
   "outputs": [
    {
     "name": "stdout",
     "output_type": "stream",
     "text": [
      "MSE : 0.44375\n",
      "RMSE : 0.6661456297237114\n"
     ]
    }
   ],
   "source": [
    "from math import *\n",
    "from sklearn.metrics import *\n",
    "\n",
    "print('MSE :', mean_absolute_error(y_test, reg_res_int))\n",
    "\n",
    "print('RMSE :', np.sqrt(mean_absolute_error(y_test, reg_res_int)))"
   ]
  },
  {
   "cell_type": "markdown",
   "id": "70843225",
   "metadata": {},
   "source": [
    "#### Prédiction des notes à l'aide d'autres modèles :"
   ]
  },
  {
   "cell_type": "markdown",
   "id": "7a6f96e5",
   "metadata": {},
   "source": [
    "Par curiosité j'ai voulu tester si avec d'autres modèles on pouvait obtenir une meilleur prédiction des notes,j'ai donc choisi de tester 2 modèles :"
   ]
  },
  {
   "cell_type": "code",
   "execution_count": 22,
   "id": "c85814ae",
   "metadata": {},
   "outputs": [
    {
     "name": "stdout",
     "output_type": "stream",
     "text": [
      "Le score d'accuracy pour la RandomForest est :  0.68125\n"
     ]
    }
   ],
   "source": [
    "# RandomForest \n",
    "\n",
    "rf = RandomForestClassifier(random_state = 42)\n",
    "rf.fit(X_train, y_train)\n",
    "predictions=rf.predict(np.array(X_test ))\n",
    "\n",
    "print(\"Le score d'accuracy pour la RandomForest est : \", accuracy_score(y_test, predictions))"
   ]
  },
  {
   "cell_type": "code",
   "execution_count": 23,
   "id": "4d4ea07c",
   "metadata": {},
   "outputs": [
    {
     "name": "stdout",
     "output_type": "stream",
     "text": [
      "Le score d'accuracy pour la DecisionTree est :  0.5791666666666667\n"
     ]
    }
   ],
   "source": [
    "# DecisionTree\n",
    "\n",
    "dt = DecisionTreeClassifier()\n",
    "dt.fit(X_train, y_train)\n",
    "pred = dt.predict(np.array(X_test ))\n",
    "\n",
    "accuracy_score(y_test, pred)\n",
    "print(\"Le score d'accuracy pour la DecisionTree est : \", accuracy_score(y_test, pred))"
   ]
  },
  {
   "cell_type": "markdown",
   "id": "d52e6cda",
   "metadata": {},
   "source": [
    "-------------------------------------------------------------------------------------------------------------------------------"
   ]
  },
  {
   "cell_type": "markdown",
   "id": "1c13cb66",
   "metadata": {},
   "source": [
    "### Partie avec données du debut binarisée\n"
   ]
  },
  {
   "cell_type": "markdown",
   "id": "8c2ac172",
   "metadata": {},
   "source": [
    "Dans la continuité de cette idée, j'ai voulu savoir si on obtenait de meilleur prédiction de classification en binarisant les données dès le début. En effet dans un premier temps j'ai commencé les simulations avec les notes de 0 à 10. Dans cette partie,  je vais les binariser dès le début et voir si ainsi on obtient une meilleur classification.  "
   ]
  },
  {
   "cell_type": "code",
   "execution_count": 24,
   "id": "7ba620ca",
   "metadata": {
    "scrolled": false
   },
   "outputs": [],
   "source": [
    "\n",
    "data3=data\n",
    "\n",
    "X3=data3.drop(['quality'],axis=1)\n",
    "\n",
    "#Binarisation des données \n",
    "\n",
    "y3 = data3['quality'].apply(lambda Y_value: 1 if Y_value>=7 else 0)\n"
   ]
  },
  {
   "cell_type": "code",
   "execution_count": 25,
   "id": "d0a986b2",
   "metadata": {},
   "outputs": [],
   "source": [
    "# Création d'un jeu d'apprentissage et de test\n",
    "\n",
    "# 70% pour le set d'apprentissage\n",
    "# 30% pour le test\n",
    "\n",
    "trainsize2=0.7 \n",
    "testsize2= 0.3\n",
    "seed2=30\n",
    "X3_train,X3_test,y3_train,y3_test=train_test_split(X3, \n",
    "                                               y3, \n",
    "                                               train_size=trainsize2, \n",
    "                                               random_state=seed2,\n",
    "                                               test_size=testsize2)\n",
    "\n"
   ]
  },
  {
   "cell_type": "code",
   "execution_count": 26,
   "id": "81d30eff",
   "metadata": {},
   "outputs": [
    {
     "name": "stdout",
     "output_type": "stream",
     "text": [
      "(1599,) (480,) (1119,)\n"
     ]
    }
   ],
   "source": [
    "print(y3.shape, y3_test.shape, y3_train.shape)"
   ]
  },
  {
   "cell_type": "code",
   "execution_count": 27,
   "id": "eab82d65",
   "metadata": {},
   "outputs": [
    {
     "name": "stdout",
     "output_type": "stream",
     "text": [
      "[0 0 0 0 0 0 0 0 0 0 0 0 0 0 0 0 0 0 0 0 0 0 0 0 0 0 0 0 0 0 0 0 0 0 0 1 0\n",
      " 0 0 1 0 0 0 0 0 0 0 0 0 0 0 0 0 0 0 0 0 0 0 0 0 0 0 0 0 0 0 0 0 0 0 0 0 0\n",
      " 0 0 1 0 0 0 1 0 0 0 0 0 0 0 0 0 0 0 0 0 0 0 0 0 0 0 0 0 0 0 0 0 0 0 0 0 0\n",
      " 0 0 0 1 0 0 0 0 0 0 0 0 0 0 0 1 0 0 0 0 0 0 0 1 0 0 0 0 0 0 0 0 0 0 0 0 0\n",
      " 0 1 0 0 0 0 0 0 0 0 0 0 0 0 0 0 0 0 0 0 1 0 0 0 0 0 0 1 0 0 0 0 0 0 0 0 0\n",
      " 0 0 0 0 1 0 0 0 0 0 0 1 0 0 1 1 0 0 0 0 0 0 0 0 0 1 0 1 0 0 0 0 0 0 0 0 1\n",
      " 0 0 0 0 0 0 0 0 0 0 0 0 0 0 0 0 0 0 0 0 0 0 0 0 0 0 0 0 0 0 0 0 0 0 0 0 0\n",
      " 0 0 0 0 0 0 0 0 0 0 0 0 0 0 0 0 0 0 0 0 0 0 0 0 0 0 0 0 0 0 0 0 0 0 1 0 0\n",
      " 0 0 0 0 0 0 0 0 0 0 0 0 0 0 0 0 0 0 0 0 0 0 0 0 0 0 0 0 0 0 0 0 0 0 0 0 0\n",
      " 0 0 0 0 0 0 0 0 0 0 0 0 0 0 0 0 0 0 0 0 0 0 0 0 0 0 0 0 0 0 0 0 0 1 1 0 0\n",
      " 0 0 0 1 1 0 0 0 0 0 0 0 0 0 0 0 0 0 0 0 1 0 0 0 1 0 0 0 0 0 0 0 0 0 0 0 0\n",
      " 0 0 0 0 0 0 0 0 0 0 0 0 0 0 0 0 0 0 0 0 0 0 0 0 0 0 0 0 0 0 0 0 0 0 0 0 0\n",
      " 0 0 0 0 0 0 0 1 0 0 0 0 0 0 0 0 0 0 0 1 1 0 0 0 0 0 1 0 0 0 0 0 0 0 0 0]\n"
     ]
    }
   ],
   "source": [
    "# Régréssion logistique\n",
    "\n",
    "lr = LogisticRegression().fit(X3_train, y3_train)\n",
    "lr_res = lr.predict(np.array(X3_test))\n",
    "print(lr_res)"
   ]
  },
  {
   "cell_type": "code",
   "execution_count": 28,
   "id": "df696286",
   "metadata": {},
   "outputs": [
    {
     "name": "stdout",
     "output_type": "stream",
     "text": [
      "              precision    recall  f1-score   support\n",
      "\n",
      "           0       0.89      0.97      0.93       416\n",
      "           1       0.54      0.23      0.33        64\n",
      "\n",
      "    accuracy                           0.87       480\n",
      "   macro avg       0.71      0.60      0.63       480\n",
      "weighted avg       0.84      0.87      0.85       480\n",
      "\n",
      "L'accuracy pour la Régréssion Logistique est égale à : 0.8708333333333333\n"
     ]
    }
   ],
   "source": [
    "print(classification_report(y3_test, lr_res))\n",
    "print(\"L'accuracy pour la Régréssion Logistique est égale à :\",accuracy_score(y3_test, lr_res))\n",
    "\n"
   ]
  },
  {
   "cell_type": "code",
   "execution_count": 29,
   "id": "908ae66b",
   "metadata": {},
   "outputs": [
    {
     "name": "stdout",
     "output_type": "stream",
     "text": [
      "Matrice de confusion :\n",
      "TN:  403\n",
      "FN:  49\n",
      "TP:  15\n",
      "FP:  13\n"
     ]
    },
    {
     "data": {
      "image/png": "[encoded data removed]",
      "text/plain": [
       "<Figure size 640x480 with 2 Axes>"
      ]
     },
     "metadata": {},
     "output_type": "display_data"
    }
   ],
   "source": [
    "print(\"Matrice de confusion :\")\n",
    "style.use('classic')\n",
    "cm = confusion_matrix(y3_test, lr_res, labels=lr.classes_)\n",
    "disp = ConfusionMatrixDisplay(confusion_matrix= cm, display_labels=lr.classes_)\n",
    "disp.plot()\n",
    "print(\"TN: \", cm[0][0])\n",
    "print(\"FN: \", cm[1][0])\n",
    "print(\"TP: \", cm[1][1])\n",
    "print(\"FP: \", cm[0][1])\n"
   ]
  },
  {
   "cell_type": "code",
   "execution_count": 30,
   "id": "d5f00587",
   "metadata": {},
   "outputs": [
    {
     "name": "stdout",
     "output_type": "stream",
     "text": [
      "[0 0 0 0 0 0 0 0 0 0 0 0 0 0 1 0 0 0 0 0 0 1 1 0 0 1 0 0 0 0 0 0 0 1 0 1 0\n",
      " 0 0 0 0 0 0 0 0 0 1 0 0 0 0 1 0 0 0 0 0 0 0 0 0 0 1 0 1 1 0 0 0 0 0 0 0 0\n",
      " 0 0 1 0 0 0 0 1 0 0 0 0 0 0 0 0 0 0 0 1 0 0 0 0 0 0 0 0 0 0 0 1 0 0 0 0 0\n",
      " 0 0 1 1 0 0 0 0 0 1 0 1 0 1 0 1 0 0 0 0 0 0 0 0 0 0 0 0 1 0 0 0 0 0 0 0 0\n",
      " 1 1 0 0 0 0 0 0 0 0 0 0 0 0 0 0 0 0 0 0 1 0 0 0 0 0 0 0 0 0 0 1 0 0 1 0 0\n",
      " 0 0 0 0 0 0 0 0 1 0 0 1 0 0 0 0 0 0 0 0 1 0 0 0 0 0 0 1 0 0 0 0 0 0 0 0 0\n",
      " 1 0 0 0 0 0 1 0 0 0 0 1 0 0 0 0 0 0 0 0 0 0 0 0 0 1 1 0 1 1 0 0 0 0 0 0 0\n",
      " 0 0 0 0 0 0 0 0 0 0 0 0 0 1 0 1 0 0 0 0 0 0 0 0 0 0 0 0 0 0 1 0 0 0 0 0 0\n",
      " 0 0 1 0 0 0 0 0 0 0 0 0 0 0 0 0 0 0 0 0 0 0 0 0 0 0 0 0 0 0 1 0 0 0 0 0 1\n",
      " 0 0 0 0 0 0 1 0 1 0 0 1 0 0 0 0 0 0 0 0 0 0 0 1 0 0 0 0 1 0 1 1 0 0 1 0 0\n",
      " 0 0 0 0 0 0 0 0 0 0 0 0 0 0 0 0 0 0 0 0 1 0 1 0 1 0 0 1 0 0 0 0 0 0 0 0 0\n",
      " 0 0 1 0 1 0 0 0 0 0 1 0 1 0 0 0 0 0 1 0 0 0 0 1 0 0 0 0 1 1 0 0 0 1 0 0 0\n",
      " 0 0 0 0 0 0 0 0 0 0 0 0 1 0 0 0 0 0 0 1 1 1 0 0 0 0 1 0 0 0 0 0 0 1 0 0]\n"
     ]
    }
   ],
   "source": [
    "#DecisionTree\n",
    "\n",
    "dt = DecisionTreeClassifier().fit(X3_train, y3_train)\n",
    "dt_res = dt.predict(np.array(X3_test ))\n",
    "print(dt_res)\n"
   ]
  },
  {
   "cell_type": "code",
   "execution_count": 31,
   "id": "2b105489",
   "metadata": {
    "scrolled": true
   },
   "outputs": [
    {
     "name": "stdout",
     "output_type": "stream",
     "text": [
      "              precision    recall  f1-score   support\n",
      "\n",
      "           0       0.93      0.92      0.93       416\n",
      "           1       0.52      0.58      0.55        64\n",
      "\n",
      "    accuracy                           0.87       480\n",
      "   macro avg       0.73      0.75      0.74       480\n",
      "weighted avg       0.88      0.87      0.88       480\n",
      "\n",
      "L'accuracy pour la Régréssion Logistique est égale à : 0.8729166666666667\n"
     ]
    }
   ],
   "source": [
    "print(classification_report(y3_test, dt_res))\n",
    "print(\"L'accuracy pour la Régréssion Logistique est égale à :\",accuracy_score(y3_test, dt_res))\n"
   ]
  },
  {
   "cell_type": "code",
   "execution_count": 32,
   "id": "8f783570",
   "metadata": {},
   "outputs": [
    {
     "name": "stdout",
     "output_type": "stream",
     "text": [
      "Matrice de confusion :\n",
      "TN:  382\n",
      "FN:  27\n",
      "TP:  37\n",
      "FP:  34\n"
     ]
    },
    {
     "data": {
      "image/png": "[encoded data removed]",
      "text/plain": [
       "<Figure size 640x480 with 2 Axes>"
      ]
     },
     "metadata": {},
     "output_type": "display_data"
    }
   ],
   "source": [
    "print(\"Matrice de confusion :\")\n",
    "style.use('classic')\n",
    "cm = confusion_matrix(y3_test, dt_res, labels=dt.classes_)\n",
    "disp = ConfusionMatrixDisplay(confusion_matrix= cm, display_labels=dt.classes_)\n",
    "disp.plot()\n",
    "print(\"TN: \", cm[0][0])\n",
    "print(\"FN: \", cm[1][0])\n",
    "print(\"TP: \", cm[1][1])\n",
    "print(\"FP: \", cm[0][1])"
   ]
  },
  {
   "cell_type": "code",
   "execution_count": 33,
   "id": "9ba0b0b9",
   "metadata": {
    "scrolled": true
   },
   "outputs": [
    {
     "name": "stdout",
     "output_type": "stream",
     "text": [
      "[0 0 0 0 0 0 0 0 0 0 0 0 0 0 1 0 0 0 1 0 0 1 0 0 0 0 0 0 0 0 0 0 0 0 0 1 0\n",
      " 0 0 0 0 0 0 0 0 0 0 0 0 0 0 1 0 0 0 0 0 0 0 0 0 0 1 0 1 0 0 0 0 0 0 0 0 0\n",
      " 0 0 1 0 0 0 1 1 0 0 0 0 0 0 0 0 0 0 0 0 0 0 0 0 0 0 0 0 0 0 0 0 1 0 0 0 0\n",
      " 0 0 1 1 0 0 0 0 0 0 0 1 0 1 0 1 0 0 0 0 0 0 0 1 0 0 0 0 1 0 0 0 0 0 0 0 0\n",
      " 1 1 0 0 0 0 0 0 0 0 0 0 0 0 0 0 0 0 0 0 0 0 0 0 0 1 0 0 0 0 0 0 0 0 0 0 0\n",
      " 0 0 0 0 1 0 0 0 1 0 0 1 0 0 0 1 0 0 0 0 1 1 1 0 0 0 0 1 0 0 0 0 0 0 1 0 1\n",
      " 1 0 0 0 0 0 0 0 0 0 0 1 0 0 0 0 0 0 0 0 0 0 0 0 0 0 1 0 0 1 0 0 0 0 0 0 0\n",
      " 0 0 0 0 0 0 0 0 0 0 0 0 0 1 0 0 0 0 0 0 0 0 0 0 0 0 0 0 0 0 0 0 0 0 1 0 0\n",
      " 0 0 1 0 0 0 0 0 0 0 0 0 0 0 0 0 0 0 1 0 0 0 0 0 0 0 0 0 0 0 0 0 0 0 0 0 0\n",
      " 0 0 0 0 0 0 0 0 0 0 0 1 0 0 1 0 0 0 0 0 0 0 0 1 0 0 0 0 0 0 1 1 0 0 1 0 0\n",
      " 0 0 0 0 0 0 0 0 0 0 0 0 0 0 0 0 0 0 0 0 1 0 0 0 1 0 0 0 0 0 0 0 0 0 0 0 0\n",
      " 0 0 0 0 1 0 0 0 0 0 1 0 1 0 0 0 0 0 1 0 0 0 0 0 0 0 0 0 1 1 0 0 0 0 0 0 0\n",
      " 0 0 0 0 0 0 0 0 0 0 0 0 0 0 0 0 0 0 0 1 1 0 0 0 0 0 1 1 0 0 0 0 0 1 0 0]\n"
     ]
    }
   ],
   "source": [
    "#RandomForest\n",
    "\n",
    "rf = RandomForestClassifier(random_state = 42).fit(X3_train, y3_train)\n",
    "rf_res = rf.predict(np.array(X3_test ))\n",
    "print(rf_res)"
   ]
  },
  {
   "cell_type": "code",
   "execution_count": 34,
   "id": "10c8ffdb",
   "metadata": {},
   "outputs": [
    {
     "name": "stdout",
     "output_type": "stream",
     "text": [
      "              precision    recall  f1-score   support\n",
      "\n",
      "           0       0.94      0.96      0.95       416\n",
      "           1       0.69      0.62      0.66        64\n",
      "\n",
      "    accuracy                           0.91       480\n",
      "   macro avg       0.82      0.79      0.80       480\n",
      "weighted avg       0.91      0.91      0.91       480\n",
      "\n",
      "L'accuracy pour la Régréssion Logistique est égale à : 0.9125\n"
     ]
    }
   ],
   "source": [
    "print(classification_report(y3_test, rf_res))\n",
    "print(\"L'accuracy pour la Régréssion Logistique est égale à :\",accuracy_score(y3_test, rf_res))\n"
   ]
  },
  {
   "cell_type": "code",
   "execution_count": 36,
   "id": "e6175cd2",
   "metadata": {
    "scrolled": true
   },
   "outputs": [
    {
     "name": "stdout",
     "output_type": "stream",
     "text": [
      "Matrice de confusion :\n",
      "TN:  398\n",
      "FN:  24\n",
      "TP:  40\n",
      "FP:  18\n"
     ]
    },
    {
     "data": {
      "image/png": "[encoded data removed]",
      "text/plain": [
       "<Figure size 640x480 with 2 Axes>"
      ]
     },
     "metadata": {},
     "output_type": "display_data"
    }
   ],
   "source": [
    "print(\"Matrice de confusion :\")\n",
    "style.use('classic')\n",
    "cm = confusion_matrix(y3_test, rf_res, labels=rf.classes_)\n",
    "disp = ConfusionMatrixDisplay(confusion_matrix= cm, display_labels=rf.classes_)\n",
    "disp.plot()\n",
    "print(\"TN: \", cm[0][0])\n",
    "print(\"FN: \", cm[1][0])\n",
    "print(\"TP: \", cm[1][1])\n",
    "print(\"FP: \", cm[0][1])"
   ]
  },
  {
   "cell_type": "markdown",
   "id": "a932c2fb",
   "metadata": {},
   "source": [
    "L'accuracy de ces modèles est nettement plus interessante que celles obtenu à partir des notes de 0 à 10. "
   ]
  },
  {
   "cell_type": "code",
   "execution_count": null,
   "id": "5ae4f33f",
   "metadata": {},
   "outputs": [],
   "source": []
  }
 ],
 "metadata": {
  "kernelspec": {
   "display_name": "Python 3",
   "language": "python",
   "name": "python3"
  },
  "language_info": {
   "codemirror_mode": {
    "name": "ipython",
    "version": 3
   },
   "file_extension": ".py",
   "mimetype": "text/x-python",
   "name": "python",
   "nbconvert_exporter": "python",
   "pygments_lexer": "ipython3",
   "version": "3.8.8"
  }
 },
 "nbformat": 4,
 "nbformat_minor": 5
}
